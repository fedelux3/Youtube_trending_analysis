{
 "cells": [
  {
   "cell_type": "markdown",
   "metadata": {},
   "source": [
    "# Analisi dataset tranding di Youtube\n"
   ]
  },
  {
   "cell_type": "markdown",
   "metadata": {},
   "source": [
    "Segue l'analisi dei dati di trending di youtube pendendo spunto da questo dataset: https://www.kaggle.com/datasnaek/youtube-new e studiando il codice del suo creatore: https://github.com/mitchelljy/Trending-YouTube-Scraper  \n",
    "questo tizio mi sembra ci abbia fatto sopra un bel lavoro: https://www.kaggle.com/donyoe/exploring-youtube-trending-statistics-eda  <br>\n",
    "le V che possiamo sfruttare sono: \n",
    "- __Velocity__ (perchè sono dati presi giornalmente quindi real time)\n",
    "- __Variety__ (ci sono anche dei file json e poi si potrebbe integrare con altri dati) \n",
    "- volendo si può pensare anche a __Volume__ il dataset su kaggle è mezzo giga e sono 6 mesi di rilevazioni su una decina di paesi (ma la vedo complessa)"
   ]
  },
  {
   "cell_type": "markdown",
   "metadata": {},
   "source": [
    "## NOTA BENE\n",
    "\n",
    "- Non si può (almeno credo) prendere dati di trending di altri giorni se non lo stesso giorno che si fa lo scraping\n",
    "- Manca la fusione con i json per ottenere la categoria!!!\n",
    "- Manca la popolazione dei paesi"
   ]
  },
  {
   "cell_type": "markdown",
   "metadata": {},
   "source": [
    "## Analisi tranding UK\n",
    "\n",
    "### Punti tenuti in considerazione\n",
    "\n",
    "- Video in trending più _vecchio_ pubblicato\n",
    "- Video con _visualizzazioni likes dislikes commenti_ maggiori\n",
    "- Media di _visualizzazioni likes dislikes commenti_ del trending delle giornata\n",
    "- _Categoria_ che riscuote maggior successo (quindi maggior numero di video in quella categoria e confronto con gli altri paesi)\n",
    "- Popolazione dei paesi rispetto ai vari indicatori\n",
    "- Analizzare in base ai gruppi di età"
   ]
  },
  {
   "cell_type": "code",
   "execution_count": 1,
   "metadata": {},
   "outputs": [],
   "source": [
    "import pandas as pd"
   ]
  },
  {
   "cell_type": "markdown",
   "metadata": {},
   "source": [
    "### Automatizzazione della lettura"
   ]
  },
  {
   "cell_type": "code",
   "execution_count": 136,
   "metadata": {},
   "outputs": [],
   "source": [
    "code = []\n",
    "f = open('country_codes.txt')\n",
    "for x in f:\n",
    "    x = x.strip('\\n')\n",
    "    code.append(x)"
   ]
  },
  {
   "cell_type": "code",
   "execution_count": 169,
   "metadata": {},
   "outputs": [],
   "source": [
    "# Inserire la data da considerare\n",
    "day = 22\n",
    "month = 12"
   ]
  },
  {
   "cell_type": "code",
   "execution_count": 167,
   "metadata": {},
   "outputs": [],
   "source": [
    "dataframes = []\n",
    "for i in code:\n",
    "    file = \"output_\" + str(day)+\"-\" + str(month) + \"-19/19.\" + str(day)+ \".\" + str(month) + \"_\" + str(i) + \"_videos.csv\"\n",
    "    df = pd.read_csv(file)\n",
    "    df['country_code'] = i\n",
    "    dataframes.append(df)\n",
    "YoutubeTrend = pd.concat(dataframes, axis = 0)\n",
    "YoutubeTrend = YoutubeTrend.reset_index()"
   ]
  },
  {
   "cell_type": "markdown",
   "metadata": {},
   "source": [
    "Conservo questo box sotto in caso di utilità"
   ]
  },
  {
   "cell_type": "code",
   "execution_count": 135,
   "metadata": {},
   "outputs": [
    {
     "data": {
      "text/plain": [
       "['DE', 'IT', 'GB', 'MX', 'KR', 'JP', 'IN', 'US', 'RU', 'BR', 'CA', 'FR']"
      ]
     },
     "execution_count": 135,
     "metadata": {},
     "output_type": "execute_result"
    }
   ],
   "source": [
    "import os\n",
    "import re\n",
    "c = []\n",
    "for filename in os.listdir(r'/home/marco/Scrivania/Università/Youtube/Youtube_trending_analysis/output_22-12-19'):\n",
    "    m = re.search('_([A-Z]{2})_', filename)\n",
    "    c.append(m.group(1))\n",
    "c"
   ]
  },
  {
   "cell_type": "markdown",
   "metadata": {},
   "source": [
    "#### Video in trending più _vecchio_ pubblicato in assoluto"
   ]
  },
  {
   "cell_type": "code",
   "execution_count": 168,
   "metadata": {},
   "outputs": [
    {
     "data": {
      "text/plain": [
       "159    2019-11-18 18:15:01+00:00\n",
       "832    2019-11-20 03:59:48+00:00\n",
       "2036   2019-11-22 13:05:32+00:00\n",
       "1052   2019-11-22 13:05:32+00:00\n",
       "350    2019-11-22 13:05:32+00:00\n",
       "                  ...           \n",
       "1210   2019-12-22 01:45:58+00:00\n",
       "1192   2019-12-22 02:47:51+00:00\n",
       "1184   2019-12-22 03:19:11+00:00\n",
       "1177   2019-12-22 04:07:06+00:00\n",
       "432    2019-12-22 04:30:22+00:00\n",
       "Name: publishedAt, Length: 2322, dtype: datetime64[ns, UTC]"
      ]
     },
     "execution_count": 168,
     "metadata": {},
     "output_type": "execute_result"
    }
   ],
   "source": [
    "YoutubeTrend['publishedAt'] = pd.to_datetime(YoutubeTrend['publishedAt'])\n",
    "YoutubeTrend['publishedAt'].sort_values()"
   ]
  },
  {
   "cell_type": "code",
   "execution_count": 147,
   "metadata": {},
   "outputs": [
    {
     "data": {
      "text/plain": [
       "title            How to get the best fit and sound with your Po...\n",
       "publishedAt                              2019-11-18 18:15:01+00:00\n",
       "view_count                                                   78941\n",
       "likes                                                          662\n",
       "dislikes                                                       169\n",
       "comment_count                                                    0\n",
       "country_code                                                    US\n",
       "Name: 159, dtype: object"
      ]
     },
     "execution_count": 147,
     "metadata": {},
     "output_type": "execute_result"
    }
   ],
   "source": [
    "YoutubeTrend.loc[159][['title','publishedAt','view_count','likes','dislikes','comment_count','country_code']]"
   ]
  },
  {
   "cell_type": "markdown",
   "metadata": {},
   "source": [
    "#### Video in trending più _vecchio_ pubblicato relativo ai paesi"
   ]
  },
  {
   "cell_type": "code",
   "execution_count": 152,
   "metadata": {},
   "outputs": [],
   "source": [
    "m = YoutubeTrend.groupby('country_code')['publishedAt'].idxmin()\n",
    "#YoutubeTrend.loc[m]"
   ]
  },
  {
   "cell_type": "markdown",
   "metadata": {},
   "source": [
    "#### Video con _visualizzazioni likes dislikes commenti_ maggiori"
   ]
  },
  {
   "cell_type": "code",
   "execution_count": 154,
   "metadata": {},
   "outputs": [],
   "source": [
    "m = YoutubeTrend[['view_count','likes','dislikes','comment_count']].idxmax()\n",
    "#YoutubeTrend.loc[m]"
   ]
  },
  {
   "cell_type": "markdown",
   "metadata": {},
   "source": [
    "#### Video con _visualizzazioni likes dislikes commenti_ maggiori per paese"
   ]
  },
  {
   "cell_type": "code",
   "execution_count": 158,
   "metadata": {},
   "outputs": [],
   "source": [
    "m = YoutubeTrend.groupby('country_code')['view_count'].idxmax()\n",
    "#YoutubeTrend.loc[m]"
   ]
  },
  {
   "cell_type": "markdown",
   "metadata": {},
   "source": [
    "#### Media di _visualizzazioni likes dislikes commenti_ del trending delle giornata"
   ]
  },
  {
   "cell_type": "code",
   "execution_count": 159,
   "metadata": {},
   "outputs": [
    {
     "data": {
      "text/plain": [
       "view_count       1.368667e+06\n",
       "likes            6.640778e+04\n",
       "dislikes         5.322524e+03\n",
       "comment_count    5.680503e+03\n",
       "dtype: float64"
      ]
     },
     "execution_count": 159,
     "metadata": {},
     "output_type": "execute_result"
    }
   ],
   "source": [
    "YoutubeTrend[['view_count','likes','dislikes','comment_count']].mean()"
   ]
  },
  {
   "cell_type": "code",
   "execution_count": 160,
   "metadata": {},
   "outputs": [
    {
     "data": {
      "text/html": [
       "<div>\n",
       "<style scoped>\n",
       "    .dataframe tbody tr th:only-of-type {\n",
       "        vertical-align: middle;\n",
       "    }\n",
       "\n",
       "    .dataframe tbody tr th {\n",
       "        vertical-align: top;\n",
       "    }\n",
       "\n",
       "    .dataframe thead th {\n",
       "        text-align: right;\n",
       "    }\n",
       "</style>\n",
       "<table border=\"1\" class=\"dataframe\">\n",
       "  <thead>\n",
       "    <tr style=\"text-align: right;\">\n",
       "      <th></th>\n",
       "      <th>view_count</th>\n",
       "      <th>likes</th>\n",
       "      <th>dislikes</th>\n",
       "      <th>comment_count</th>\n",
       "    </tr>\n",
       "    <tr>\n",
       "      <th>country_code</th>\n",
       "      <th></th>\n",
       "      <th></th>\n",
       "      <th></th>\n",
       "      <th></th>\n",
       "    </tr>\n",
       "  </thead>\n",
       "  <tbody>\n",
       "    <tr>\n",
       "      <th>BR</th>\n",
       "      <td>6.796129e+05</td>\n",
       "      <td>56745.560000</td>\n",
       "      <td>1076.990000</td>\n",
       "      <td>2922.710000</td>\n",
       "    </tr>\n",
       "    <tr>\n",
       "      <th>CA</th>\n",
       "      <td>2.151074e+06</td>\n",
       "      <td>106683.320000</td>\n",
       "      <td>2606.980000</td>\n",
       "      <td>9592.915000</td>\n",
       "    </tr>\n",
       "    <tr>\n",
       "      <th>DE</th>\n",
       "      <td>1.383706e+06</td>\n",
       "      <td>73405.085000</td>\n",
       "      <td>2362.435000</td>\n",
       "      <td>6435.355000</td>\n",
       "    </tr>\n",
       "    <tr>\n",
       "      <th>FR</th>\n",
       "      <td>1.225200e+06</td>\n",
       "      <td>62935.610000</td>\n",
       "      <td>1302.300000</td>\n",
       "      <td>4499.525000</td>\n",
       "    </tr>\n",
       "    <tr>\n",
       "      <th>GB</th>\n",
       "      <td>2.051334e+06</td>\n",
       "      <td>92747.640000</td>\n",
       "      <td>2210.995000</td>\n",
       "      <td>7733.765000</td>\n",
       "    </tr>\n",
       "    <tr>\n",
       "      <th>IN</th>\n",
       "      <td>1.933089e+06</td>\n",
       "      <td>65321.310559</td>\n",
       "      <td>3246.788820</td>\n",
       "      <td>4038.105590</td>\n",
       "    </tr>\n",
       "    <tr>\n",
       "      <th>IT</th>\n",
       "      <td>8.788939e+05</td>\n",
       "      <td>39041.700000</td>\n",
       "      <td>1055.465000</td>\n",
       "      <td>3442.470000</td>\n",
       "    </tr>\n",
       "    <tr>\n",
       "      <th>JP</th>\n",
       "      <td>1.163384e+06</td>\n",
       "      <td>32294.943590</td>\n",
       "      <td>41250.502564</td>\n",
       "      <td>6784.035897</td>\n",
       "    </tr>\n",
       "    <tr>\n",
       "      <th>KR</th>\n",
       "      <td>4.171489e+05</td>\n",
       "      <td>14967.054217</td>\n",
       "      <td>338.614458</td>\n",
       "      <td>1457.433735</td>\n",
       "    </tr>\n",
       "    <tr>\n",
       "      <th>MX</th>\n",
       "      <td>2.016060e+06</td>\n",
       "      <td>117745.750000</td>\n",
       "      <td>4223.240000</td>\n",
       "      <td>9169.755000</td>\n",
       "    </tr>\n",
       "    <tr>\n",
       "      <th>RU</th>\n",
       "      <td>3.121225e+05</td>\n",
       "      <td>23040.195000</td>\n",
       "      <td>1274.270000</td>\n",
       "      <td>2027.950000</td>\n",
       "    </tr>\n",
       "    <tr>\n",
       "      <th>US</th>\n",
       "      <td>2.155553e+06</td>\n",
       "      <td>102155.570000</td>\n",
       "      <td>2567.875000</td>\n",
       "      <td>9051.410000</td>\n",
       "    </tr>\n",
       "  </tbody>\n",
       "</table>\n",
       "</div>"
      ],
      "text/plain": [
       "                view_count          likes      dislikes  comment_count\n",
       "country_code                                                          \n",
       "BR            6.796129e+05   56745.560000   1076.990000    2922.710000\n",
       "CA            2.151074e+06  106683.320000   2606.980000    9592.915000\n",
       "DE            1.383706e+06   73405.085000   2362.435000    6435.355000\n",
       "FR            1.225200e+06   62935.610000   1302.300000    4499.525000\n",
       "GB            2.051334e+06   92747.640000   2210.995000    7733.765000\n",
       "IN            1.933089e+06   65321.310559   3246.788820    4038.105590\n",
       "IT            8.788939e+05   39041.700000   1055.465000    3442.470000\n",
       "JP            1.163384e+06   32294.943590  41250.502564    6784.035897\n",
       "KR            4.171489e+05   14967.054217    338.614458    1457.433735\n",
       "MX            2.016060e+06  117745.750000   4223.240000    9169.755000\n",
       "RU            3.121225e+05   23040.195000   1274.270000    2027.950000\n",
       "US            2.155553e+06  102155.570000   2567.875000    9051.410000"
      ]
     },
     "execution_count": 160,
     "metadata": {},
     "output_type": "execute_result"
    }
   ],
   "source": [
    "YoutubeTrend.groupby('country_code')[['view_count','likes','dislikes','comment_count']].mean()"
   ]
  },
  {
   "cell_type": "markdown",
   "metadata": {},
   "source": [
    "#### _Categoria_ che riscuote maggior successo"
   ]
  },
  {
   "cell_type": "markdown",
   "metadata": {},
   "source": [
    "le categorie sono indicate da numeri, il corrispettivo in testo è dato da dei file in json, per ora sto guardando quelli del tizio su kaggle però ci sarà un modo per trovarli anche direttamente tramite API. Questa cosa è molto figa perchè possiamo dire di utilizzare 2 tipi di dato, uno csv e l'altro json (anche se il json è semplice quindi magari meglio trovare altre fonti da unire a questi dati ahaha)"
   ]
  },
  {
   "cell_type": "code",
   "execution_count": 4,
   "metadata": {},
   "outputs": [
    {
     "data": {
      "text/plain": [
       "categoryId\n",
       "1      7\n",
       "2      3\n",
       "10    20\n",
       "15     1\n",
       "17    30\n",
       "19     1\n",
       "20    12\n",
       "22    14\n",
       "23    17\n",
       "24    68\n",
       "25     8\n",
       "26     6\n",
       "27     6\n",
       "28     7\n",
       "Name: video_id, dtype: int64"
      ]
     },
     "execution_count": 4,
     "metadata": {},
     "output_type": "execute_result"
    }
   ],
   "source": [
    "df.groupby('categoryId').count()['video_id']"
   ]
  },
  {
   "cell_type": "code",
   "execution_count": null,
   "metadata": {},
   "outputs": [],
   "source": []
  },
  {
   "cell_type": "markdown",
   "metadata": {},
   "source": []
  }
 ],
 "metadata": {
  "kernelspec": {
   "display_name": "Python 3",
   "language": "python",
   "name": "python3"
  },
  "language_info": {
   "codemirror_mode": {
    "name": "ipython",
    "version": 3
   },
   "file_extension": ".py",
   "mimetype": "text/x-python",
   "name": "python",
   "nbconvert_exporter": "python",
   "pygments_lexer": "ipython3",
   "version": "3.7.3"
  }
 },
 "nbformat": 4,
 "nbformat_minor": 2
}
